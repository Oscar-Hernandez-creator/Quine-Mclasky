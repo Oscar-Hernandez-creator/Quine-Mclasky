{
  "cells": [
    {
      "cell_type": "markdown",
      "metadata": {
        "id": "view-in-github",
        "colab_type": "text"
      },
      "source": [
        "<a href=\"https://colab.research.google.com/github/Oscar-Hernandez-creator/Quine-Mclasky/blob/main/Te_damos_la_bienvenida_a_Colaboratory.ipynb\" target=\"_parent\"><img src=\"https://colab.research.google.com/assets/colab-badge.svg\" alt=\"Open In Colab\"/></a>"
      ]
    },
    {
      "cell_type": "code",
      "source": [
        "from itertools import product\n",
        "\n",
        "def combine_terms(terms):\n",
        "    combined_terms = []\n",
        "    for i, term1 in enumerate(terms):\n",
        "        for j, term2 in enumerate(terms):\n",
        "            if i >= j:\n",
        "                continue\n",
        "            diff = 0\n",
        "            combined = ''\n",
        "            for k in range(len(term1)):\n",
        "                if term1[k] != term2[k]:\n",
        "                    diff += 1\n",
        "                    combined += '-'\n",
        "                else:\n",
        "                    combined += term1[k]\n",
        "            if diff == 1:\n",
        "                combined_terms.append((term1, term2, combined))\n",
        "    return combined_terms\n",
        "\n",
        "def get_prime_implicants(terms):\n",
        "    prime_implicants = []\n",
        "    implicant_chart = {}\n",
        "\n",
        "    while terms:\n",
        "        next_terms = []\n",
        "        combined_terms = combine_terms(terms)\n",
        "        for term1, term2, combined in combined_terms:\n",
        "            if combined not in implicant_chart:\n",
        "                implicant_chart[combined] = [(term1, term2)]\n",
        "            else:\n",
        "                implicant_chart[combined].append((term1, term2))\n",
        "            next_terms.append(combined)\n",
        "\n",
        "        prime_implicants.extend(terms)\n",
        "        terms = list(set(next_terms))\n",
        "\n",
        "    return prime_implicants, implicant_chart\n",
        "\n",
        "def minimize_expression(expression):\n",
        "    variables = sorted(set(''.join(expression)))\n",
        "    terms = [term.ljust(len(variables), '-') for term in expression]\n",
        "\n",
        "    prime_implicants, implicant_chart = get_prime_implicants(terms)\n",
        "\n",
        "    essential_prime_implicants = []\n",
        "    remaining_implicants = set(prime_implicants)\n",
        "\n",
        "    for chart in implicant_chart.values():\n",
        "        if len(chart) == 1:\n",
        "            essential_prime_implicants.append(chart[0][0])\n",
        "            remaining_implicants.discard(chart[0][0])\n",
        "\n",
        "    for implicant in remaining_implicants.copy():\n",
        "        for essential_implicant in essential_prime_implicants:\n",
        "            if all(c1 == '-' or c1 == c2 for c1, c2 in zip(implicant, essential_implicant)):\n",
        "             remaining_implicants.discard(implicant)\n",
        "             break\n",
        "\n",
        "    return essential_prime_implicants + list(remaining_implicants)\n",
        "\n",
        "def main():\n",
        "    expression = ['001-', '1-0-', '011-', '101-', '1-10', '11-0', '0-11', '1101']\n",
        "    minimized_expression = minimize_expression(expression)\n",
        "    print(\"Minimized Expression:\")\n",
        "    print(' + '.join(minimized_expression))\n",
        "\n",
        "if __name__ == \"__main__\":\n",
        "    main()\n"
      ],
      "metadata": {
        "colab": {
          "base_uri": "https://localhost:8080/"
        },
        "id": "mUpFk90sE6F6",
        "outputId": "37c59c1a-e6bc-42df-c980-33b77e410fa6"
      },
      "execution_count": 5,
      "outputs": [
        {
          "output_type": "stream",
          "name": "stdout",
          "text": [
            "Minimized Expression:\n",
            "001- + 001- + 11-0 + 101- + 1-0- + 011- + 1-10 + 1101 + 0-11\n"
          ]
        }
      ]
    }
  ],
  "metadata": {
    "colab": {
      "name": "Te damos la bienvenida a Colaboratory",
      "toc_visible": true,
      "provenance": [],
      "include_colab_link": true
    },
    "kernelspec": {
      "display_name": "Python 3",
      "name": "python3"
    }
  },
  "nbformat": 4,
  "nbformat_minor": 0
}